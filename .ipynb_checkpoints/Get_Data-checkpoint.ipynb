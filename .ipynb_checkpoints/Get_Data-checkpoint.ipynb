{
 "cells": [
  {
   "cell_type": "code",
   "execution_count": 1,
   "metadata": {
    "scrolled": true
   },
   "outputs": [],
   "source": [
    "import pandas as pd\n",
    "import numpy as np\n",
    "import openml\n",
    "import os\n",
    "import glob\n",
    "import shutil"
   ]
  },
  {
   "cell_type": "markdown",
   "metadata": {},
   "source": [
    "# Download OpenML data"
   ]
  },
  {
   "cell_type": "raw",
   "metadata": {},
   "source": [
    "NumberOfInstances > 1000\n",
    "4<NumberOfFeatures <30\n",
    "0 <NumberOfClasses <8"
   ]
  },
  {
   "cell_type": "code",
   "execution_count": 2,
   "metadata": {},
   "outputs": [],
   "source": [
    "_ = [30,36,54,151,152,153,156,157,158,159,160,182,251,259,265,267,268,310,351,354,375,715,720,723,725,727,728,\n",
    "                735,737,740,743,751,752,761,799,803,807,813,816,819,821,823,833,841,843,845,846,847,849,871,901,903,910,\n",
    "                912,913,917,923,958,962,976,977,994,1019,1021,1046,1049,1050,1056,1067,1068,1069,1120,1183,1185,1205,1214,\n",
    "                1216,1217,1218,1219,1220,1241,1444,1453,1462,1471,1489,1496,1497,1504,1507,1526,1547,1557,1560,1569,1597,\n",
    "                4154,4538,23512,23517,40497,40498,40685,40691,40900,40922,40982,40983,40984,41027,41146,41228,41671]\n",
    "\n",
    "dataset_ids=[1050,40691,40646,40647,40648,40649,40650,40975,991,40664,41829,41830,41811,41746,41821,41815,41733,41744,41765,41719,41788,41754,41785,41724,41756,41801,41713,41867,41872,41864,41874,41857,41882,41868,41849,41848,41707,41841,41897,41826,41894,41875,41740,41753,41834,41803,41866,41784,41764,41725,41760,41721,41790,41716,41750,41839,41818,41737,41769,41726,41722,41730,41766,41858,41797,41844,41783,41847,41863,41720,41791,41812,41846,41731,40982,1504,962,1067,1560,40984,958,36,40478,40475,40474,40477,40476,737,3,40707,40708,40713,41946,40497,871,728,720,1557,1558,40983,40498,40701,40900,41146,42193,42192,1489,1526,1497,1021,30,1069,182,847,42178,803,1496,1507,807,752,833,735,816,725,761,923,1056,819,4538,976,375,1044,1019,4534,310,1568,959,26,4154,1471,1046,846,1120,41671,1222,977,823,843,821,42493,42477,4135,137,251,1220,901,881,727,41851,41896,41898,41843,41842,41885,41893,41884,41883,41881,41879,41888,41889,41877,41856,41873,41870,41891,41865,41862,41860,41886,41859,41871,41878,41805,41835,41773,41838,41767,41763,41762,41759,41758,41742,41739,41736,41734,41727,41723,41718,41715,41712,41709,41777,41779,41768,41816,41820,41780,41806,41827,41828,41804,41824,41799,41787,41831,41782,41832,41833,41781,41792,41825,41027,1461,151,119,255,40685,40922,23517,40672,143,42680,133,265,1217]"
   ]
  },
  {
   "cell_type": "code",
   "execution_count": 3,
   "metadata": {},
   "outputs": [
    {
     "data": {
      "text/plain": [
       "236"
      ]
     },
     "execution_count": 3,
     "metadata": {},
     "output_type": "execute_result"
    }
   ],
   "source": [
    "len(dataset_ids)"
   ]
  },
  {
   "cell_type": "code",
   "execution_count": 4,
   "metadata": {},
   "outputs": [
    {
     "name": "stdout",
     "output_type": "stream",
     "text": [
      "Get dataset id 1050->Dataset 1050 saved successfully\n",
      "Get dataset id 40691->Dataset 40691 saved successfully\n",
      "Get dataset id 40646->Dataset 40646 saved successfully\n",
      "Get dataset id 40647->Dataset 40647 saved successfully\n",
      "Get dataset id 40648->Dataset 40648 saved successfully\n",
      "Get dataset id 40649->Dataset 40649 saved successfully\n",
      "Get dataset id 40650->Dataset 40650 saved successfully\n",
      "Get dataset id 40975->Dataset 40975 saved successfully\n",
      "Get dataset id 991->Dataset 991 saved successfully\n",
      "Get dataset id 40664->Dataset 40664 saved successfully\n",
      "Get dataset id 41829->cant be downloaded\n",
      "Get dataset id 41830->cant be downloaded\n",
      "Get dataset id 41811->cant be downloaded\n",
      "Get dataset id 41746->cant be downloaded\n",
      "Get dataset id 41821->cant be downloaded\n",
      "Get dataset id 41815->cant be downloaded\n",
      "Get dataset id 41733->cant be downloaded\n",
      "Get dataset id 41744->cant be downloaded\n",
      "Get dataset id 41765->cant be downloaded\n",
      "Get dataset id 41719->cant be downloaded\n",
      "Get dataset id 41788->cant be downloaded\n",
      "Get dataset id 41754->cant be downloaded\n",
      "Get dataset id 41785->cant be downloaded\n",
      "Get dataset id 41724->cant be downloaded\n",
      "Get dataset id 41756->cant be downloaded\n",
      "Get dataset id 41801->cant be downloaded\n",
      "Get dataset id 41713->cant be downloaded\n",
      "Get dataset id 41867->cant be downloaded\n",
      "Get dataset id 41872->cant be downloaded\n",
      "Get dataset id 41864->cant be downloaded\n",
      "Get dataset id 41874->cant be downloaded\n",
      "Get dataset id 41857->cant be downloaded\n",
      "Get dataset id 41882->cant be downloaded\n",
      "Get dataset id 41868->cant be downloaded\n",
      "Get dataset id 41849->cant be downloaded\n",
      "Get dataset id 41848->cant be downloaded\n",
      "Get dataset id 41707->cant be downloaded\n",
      "Get dataset id 41841->cant be downloaded\n",
      "Get dataset id 41897->cant be downloaded\n",
      "Get dataset id 41826->cant be downloaded\n",
      "Get dataset id 41894->cant be downloaded\n",
      "Get dataset id 41875->cant be downloaded\n",
      "Get dataset id 41740->cant be downloaded\n",
      "Get dataset id 41753->cant be downloaded\n",
      "Get dataset id 41834->cant be downloaded\n",
      "Get dataset id 41803->cant be downloaded\n",
      "Get dataset id 41866->cant be downloaded\n",
      "Get dataset id 41784->cant be downloaded\n",
      "Get dataset id 41764->cant be downloaded\n",
      "Get dataset id 41725->cant be downloaded\n",
      "Get dataset id 41760->cant be downloaded\n",
      "Get dataset id 41721->cant be downloaded\n",
      "Get dataset id 41790->cant be downloaded\n",
      "Get dataset id 41716->cant be downloaded\n",
      "Get dataset id 41750->cant be downloaded\n",
      "Get dataset id 41839->cant be downloaded\n",
      "Get dataset id 41818->cant be downloaded\n",
      "Get dataset id 41737->cant be downloaded\n",
      "Get dataset id 41769->cant be downloaded\n",
      "Get dataset id 41726->cant be downloaded\n",
      "Get dataset id 41722->cant be downloaded\n",
      "Get dataset id 41730->cant be downloaded\n",
      "Get dataset id 41766->cant be downloaded\n",
      "Get dataset id 41858->cant be downloaded\n",
      "Get dataset id 41797->cant be downloaded\n",
      "Get dataset id 41844->cant be downloaded\n",
      "Get dataset id 41783->cant be downloaded\n",
      "Get dataset id 41847->cant be downloaded\n",
      "Get dataset id 41863->cant be downloaded\n",
      "Get dataset id 41720->cant be downloaded\n",
      "Get dataset id 41791->cant be downloaded\n",
      "Get dataset id 41812->"
     ]
    },
    {
     "ename": "KeyboardInterrupt",
     "evalue": "",
     "output_type": "error",
     "traceback": [
      "\u001b[1;31m---------------------------------------------------------------------------\u001b[0m",
      "\u001b[1;31mFileNotFoundError\u001b[0m                         Traceback (most recent call last)",
      "\u001b[1;32m~\\anaconda3\\lib\\site-packages\\openml\\datasets\\functions.py\u001b[0m in \u001b[0;36m_get_dataset_qualities\u001b[1;34m(did_cache_dir, dataset_id)\u001b[0m\n\u001b[0;32m   1089\u001b[0m     \u001b[1;32mtry\u001b[0m\u001b[1;33m:\u001b[0m\u001b[1;33m\u001b[0m\u001b[1;33m\u001b[0m\u001b[0m\n\u001b[1;32m-> 1090\u001b[1;33m         \u001b[1;32mwith\u001b[0m \u001b[0mio\u001b[0m\u001b[1;33m.\u001b[0m\u001b[0mopen\u001b[0m\u001b[1;33m(\u001b[0m\u001b[0mqualities_file\u001b[0m\u001b[1;33m,\u001b[0m \u001b[0mencoding\u001b[0m\u001b[1;33m=\u001b[0m\u001b[1;34m\"utf8\"\u001b[0m\u001b[1;33m)\u001b[0m \u001b[1;32mas\u001b[0m \u001b[0mfh\u001b[0m\u001b[1;33m:\u001b[0m\u001b[1;33m\u001b[0m\u001b[1;33m\u001b[0m\u001b[0m\n\u001b[0m\u001b[0;32m   1091\u001b[0m             \u001b[0mqualities_xml\u001b[0m \u001b[1;33m=\u001b[0m \u001b[0mfh\u001b[0m\u001b[1;33m.\u001b[0m\u001b[0mread\u001b[0m\u001b[1;33m(\u001b[0m\u001b[1;33m)\u001b[0m\u001b[1;33m\u001b[0m\u001b[1;33m\u001b[0m\u001b[0m\n",
      "\u001b[1;31mFileNotFoundError\u001b[0m: [Errno 2] No such file or directory: 'C:\\\\Users\\\\GAROUANI\\\\.openml\\\\cache\\\\org\\\\openml\\\\www\\\\datasets\\\\41812\\\\qualities.xml'",
      "\nDuring handling of the above exception, another exception occurred:\n",
      "\u001b[1;31mKeyboardInterrupt\u001b[0m                         Traceback (most recent call last)",
      "\u001b[1;32m<ipython-input-4-c3339d130537>\u001b[0m in \u001b[0;36m<module>\u001b[1;34m\u001b[0m\n\u001b[0;32m      2\u001b[0m     \u001b[0mprint\u001b[0m \u001b[1;33m(\u001b[0m\u001b[1;34m'Get dataset id'\u001b[0m\u001b[1;33m,\u001b[0m \u001b[0mdataset_id\u001b[0m\u001b[1;33m,\u001b[0m \u001b[0mend\u001b[0m\u001b[1;33m=\u001b[0m\u001b[1;34m'->'\u001b[0m\u001b[1;33m)\u001b[0m\u001b[1;33m\u001b[0m\u001b[1;33m\u001b[0m\u001b[0m\n\u001b[0;32m      3\u001b[0m     \u001b[1;32mtry\u001b[0m\u001b[1;33m:\u001b[0m\u001b[1;33m\u001b[0m\u001b[1;33m\u001b[0m\u001b[0m\n\u001b[1;32m----> 4\u001b[1;33m       \u001b[0mdataset\u001b[0m \u001b[1;33m=\u001b[0m \u001b[0mopenml\u001b[0m\u001b[1;33m.\u001b[0m\u001b[0mdatasets\u001b[0m\u001b[1;33m.\u001b[0m\u001b[0mget_dataset\u001b[0m\u001b[1;33m(\u001b[0m\u001b[0mint\u001b[0m\u001b[1;33m(\u001b[0m\u001b[0mdataset_id\u001b[0m\u001b[1;33m)\u001b[0m\u001b[1;33m)\u001b[0m\u001b[1;33m\u001b[0m\u001b[1;33m\u001b[0m\u001b[0m\n\u001b[0m\u001b[0;32m      5\u001b[0m       \u001b[0mX\u001b[0m\u001b[1;33m,\u001b[0m \u001b[0my\u001b[0m\u001b[1;33m,\u001b[0m \u001b[0mcategorical_indicator\u001b[0m\u001b[1;33m,\u001b[0m \u001b[0mattribute_names\u001b[0m \u001b[1;33m=\u001b[0m \u001b[0mdataset\u001b[0m\u001b[1;33m.\u001b[0m\u001b[0mget_data\u001b[0m\u001b[1;33m(\u001b[0m\u001b[0mdataset_format\u001b[0m\u001b[1;33m=\u001b[0m\u001b[1;34m'dataframe'\u001b[0m\u001b[1;33m,\u001b[0m \u001b[0mtarget\u001b[0m\u001b[1;33m=\u001b[0m\u001b[0mdataset\u001b[0m\u001b[1;33m.\u001b[0m\u001b[0mdefault_target_attribute\u001b[0m\u001b[1;33m)\u001b[0m\u001b[1;33m\u001b[0m\u001b[1;33m\u001b[0m\u001b[0m\n\u001b[0;32m      6\u001b[0m     \u001b[1;31m#if len(np.unique(y)) != 2:\u001b[0m\u001b[1;33m\u001b[0m\u001b[1;33m\u001b[0m\u001b[1;33m\u001b[0m\u001b[0m\n",
      "\u001b[1;32m~\\anaconda3\\lib\\site-packages\\openml\\datasets\\functions.py\u001b[0m in \u001b[0;36mget_dataset\u001b[1;34m(dataset_id, download_data, version, error_if_multiple, cache_format)\u001b[0m\n\u001b[0;32m    496\u001b[0m \u001b[1;33m\u001b[0m\u001b[0m\n\u001b[0;32m    497\u001b[0m         \u001b[1;32mtry\u001b[0m\u001b[1;33m:\u001b[0m\u001b[1;33m\u001b[0m\u001b[1;33m\u001b[0m\u001b[0m\n\u001b[1;32m--> 498\u001b[1;33m             \u001b[0mqualities\u001b[0m \u001b[1;33m=\u001b[0m \u001b[0m_get_dataset_qualities\u001b[0m\u001b[1;33m(\u001b[0m\u001b[0mdid_cache_dir\u001b[0m\u001b[1;33m,\u001b[0m \u001b[0mdataset_id\u001b[0m\u001b[1;33m)\u001b[0m\u001b[1;33m\u001b[0m\u001b[1;33m\u001b[0m\u001b[0m\n\u001b[0m\u001b[0;32m    499\u001b[0m         \u001b[1;32mexcept\u001b[0m \u001b[0mOpenMLServerException\u001b[0m \u001b[1;32mas\u001b[0m \u001b[0me\u001b[0m\u001b[1;33m:\u001b[0m\u001b[1;33m\u001b[0m\u001b[1;33m\u001b[0m\u001b[0m\n\u001b[0;32m    500\u001b[0m             \u001b[1;32mif\u001b[0m \u001b[0me\u001b[0m\u001b[1;33m.\u001b[0m\u001b[0mcode\u001b[0m \u001b[1;33m==\u001b[0m \u001b[1;36m362\u001b[0m \u001b[1;32mand\u001b[0m \u001b[0mstr\u001b[0m\u001b[1;33m(\u001b[0m\u001b[0me\u001b[0m\u001b[1;33m)\u001b[0m \u001b[1;33m==\u001b[0m \u001b[1;34m\"No qualities found - None\"\u001b[0m\u001b[1;33m:\u001b[0m\u001b[1;33m\u001b[0m\u001b[1;33m\u001b[0m\u001b[0m\n",
      "\u001b[1;32m~\\anaconda3\\lib\\site-packages\\openml\\datasets\\functions.py\u001b[0m in \u001b[0;36m_get_dataset_qualities\u001b[1;34m(did_cache_dir, dataset_id)\u001b[0m\n\u001b[0;32m   1092\u001b[0m     \u001b[1;32mexcept\u001b[0m \u001b[1;33m(\u001b[0m\u001b[0mOSError\u001b[0m\u001b[1;33m,\u001b[0m \u001b[0mIOError\u001b[0m\u001b[1;33m)\u001b[0m\u001b[1;33m:\u001b[0m\u001b[1;33m\u001b[0m\u001b[1;33m\u001b[0m\u001b[0m\n\u001b[0;32m   1093\u001b[0m         \u001b[0murl_extension\u001b[0m \u001b[1;33m=\u001b[0m \u001b[1;34m\"data/qualities/{}\"\u001b[0m\u001b[1;33m.\u001b[0m\u001b[0mformat\u001b[0m\u001b[1;33m(\u001b[0m\u001b[0mdataset_id\u001b[0m\u001b[1;33m)\u001b[0m\u001b[1;33m\u001b[0m\u001b[1;33m\u001b[0m\u001b[0m\n\u001b[1;32m-> 1094\u001b[1;33m         \u001b[0mqualities_xml\u001b[0m \u001b[1;33m=\u001b[0m \u001b[0mopenml\u001b[0m\u001b[1;33m.\u001b[0m\u001b[0m_api_calls\u001b[0m\u001b[1;33m.\u001b[0m\u001b[0m_perform_api_call\u001b[0m\u001b[1;33m(\u001b[0m\u001b[0murl_extension\u001b[0m\u001b[1;33m,\u001b[0m \u001b[1;34m\"get\"\u001b[0m\u001b[1;33m)\u001b[0m\u001b[1;33m\u001b[0m\u001b[1;33m\u001b[0m\u001b[0m\n\u001b[0m\u001b[0;32m   1095\u001b[0m \u001b[1;33m\u001b[0m\u001b[0m\n\u001b[0;32m   1096\u001b[0m         \u001b[1;32mwith\u001b[0m \u001b[0mio\u001b[0m\u001b[1;33m.\u001b[0m\u001b[0mopen\u001b[0m\u001b[1;33m(\u001b[0m\u001b[0mqualities_file\u001b[0m\u001b[1;33m,\u001b[0m \u001b[1;34m\"w\"\u001b[0m\u001b[1;33m,\u001b[0m \u001b[0mencoding\u001b[0m\u001b[1;33m=\u001b[0m\u001b[1;34m\"utf8\"\u001b[0m\u001b[1;33m)\u001b[0m \u001b[1;32mas\u001b[0m \u001b[0mfh\u001b[0m\u001b[1;33m:\u001b[0m\u001b[1;33m\u001b[0m\u001b[1;33m\u001b[0m\u001b[0m\n",
      "\u001b[1;32m~\\anaconda3\\lib\\site-packages\\openml\\_api_calls.py\u001b[0m in \u001b[0;36m_perform_api_call\u001b[1;34m(call, request_method, data, file_elements)\u001b[0m\n\u001b[0;32m     58\u001b[0m         \u001b[0mresponse\u001b[0m \u001b[1;33m=\u001b[0m \u001b[0m__read_url_files\u001b[0m\u001b[1;33m(\u001b[0m\u001b[0murl\u001b[0m\u001b[1;33m,\u001b[0m \u001b[0mdata\u001b[0m\u001b[1;33m=\u001b[0m\u001b[0mdata\u001b[0m\u001b[1;33m,\u001b[0m \u001b[0mfile_elements\u001b[0m\u001b[1;33m=\u001b[0m\u001b[0mfile_elements\u001b[0m\u001b[1;33m)\u001b[0m\u001b[1;33m\u001b[0m\u001b[1;33m\u001b[0m\u001b[0m\n\u001b[0;32m     59\u001b[0m     \u001b[1;32melse\u001b[0m\u001b[1;33m:\u001b[0m\u001b[1;33m\u001b[0m\u001b[1;33m\u001b[0m\u001b[0m\n\u001b[1;32m---> 60\u001b[1;33m         \u001b[0mresponse\u001b[0m \u001b[1;33m=\u001b[0m \u001b[0m__read_url\u001b[0m\u001b[1;33m(\u001b[0m\u001b[0murl\u001b[0m\u001b[1;33m,\u001b[0m \u001b[0mrequest_method\u001b[0m\u001b[1;33m,\u001b[0m \u001b[0mdata\u001b[0m\u001b[1;33m)\u001b[0m\u001b[1;33m\u001b[0m\u001b[1;33m\u001b[0m\u001b[0m\n\u001b[0m\u001b[0;32m     61\u001b[0m \u001b[1;33m\u001b[0m\u001b[0m\n\u001b[0;32m     62\u001b[0m     \u001b[0m__check_response\u001b[0m\u001b[1;33m(\u001b[0m\u001b[0mresponse\u001b[0m\u001b[1;33m,\u001b[0m \u001b[0murl\u001b[0m\u001b[1;33m,\u001b[0m \u001b[0mfile_elements\u001b[0m\u001b[1;33m)\u001b[0m\u001b[1;33m\u001b[0m\u001b[1;33m\u001b[0m\u001b[0m\n",
      "\u001b[1;32m~\\anaconda3\\lib\\site-packages\\openml\\_api_calls.py\u001b[0m in \u001b[0;36m__read_url\u001b[1;34m(url, request_method, data)\u001b[0m\n\u001b[0;32m    179\u001b[0m         \u001b[0mdata\u001b[0m\u001b[1;33m[\u001b[0m\u001b[1;34m\"api_key\"\u001b[0m\u001b[1;33m]\u001b[0m \u001b[1;33m=\u001b[0m \u001b[0mconfig\u001b[0m\u001b[1;33m.\u001b[0m\u001b[0mapikey\u001b[0m\u001b[1;33m\u001b[0m\u001b[1;33m\u001b[0m\u001b[0m\n\u001b[0;32m    180\u001b[0m \u001b[1;33m\u001b[0m\u001b[0m\n\u001b[1;32m--> 181\u001b[1;33m     \u001b[1;32mreturn\u001b[0m \u001b[0m__send_request\u001b[0m\u001b[1;33m(\u001b[0m\u001b[0mrequest_method\u001b[0m\u001b[1;33m=\u001b[0m\u001b[0mrequest_method\u001b[0m\u001b[1;33m,\u001b[0m \u001b[0murl\u001b[0m\u001b[1;33m=\u001b[0m\u001b[0murl\u001b[0m\u001b[1;33m,\u001b[0m \u001b[0mdata\u001b[0m\u001b[1;33m=\u001b[0m\u001b[0mdata\u001b[0m\u001b[1;33m)\u001b[0m\u001b[1;33m\u001b[0m\u001b[1;33m\u001b[0m\u001b[0m\n\u001b[0m\u001b[0;32m    182\u001b[0m \u001b[1;33m\u001b[0m\u001b[0m\n\u001b[0;32m    183\u001b[0m \u001b[1;33m\u001b[0m\u001b[0m\n",
      "\u001b[1;32m~\\anaconda3\\lib\\site-packages\\openml\\_api_calls.py\u001b[0m in \u001b[0;36m__send_request\u001b[1;34m(request_method, url, data, files)\u001b[0m\n\u001b[0;32m    192\u001b[0m             \u001b[1;32mtry\u001b[0m\u001b[1;33m:\u001b[0m\u001b[1;33m\u001b[0m\u001b[1;33m\u001b[0m\u001b[0m\n\u001b[0;32m    193\u001b[0m                 \u001b[1;32mif\u001b[0m \u001b[0mrequest_method\u001b[0m \u001b[1;33m==\u001b[0m \u001b[1;34m\"get\"\u001b[0m\u001b[1;33m:\u001b[0m\u001b[1;33m\u001b[0m\u001b[1;33m\u001b[0m\u001b[0m\n\u001b[1;32m--> 194\u001b[1;33m                     \u001b[0mresponse\u001b[0m \u001b[1;33m=\u001b[0m \u001b[0msession\u001b[0m\u001b[1;33m.\u001b[0m\u001b[0mget\u001b[0m\u001b[1;33m(\u001b[0m\u001b[0murl\u001b[0m\u001b[1;33m,\u001b[0m \u001b[0mparams\u001b[0m\u001b[1;33m=\u001b[0m\u001b[0mdata\u001b[0m\u001b[1;33m)\u001b[0m\u001b[1;33m\u001b[0m\u001b[1;33m\u001b[0m\u001b[0m\n\u001b[0m\u001b[0;32m    195\u001b[0m                 \u001b[1;32melif\u001b[0m \u001b[0mrequest_method\u001b[0m \u001b[1;33m==\u001b[0m \u001b[1;34m\"delete\"\u001b[0m\u001b[1;33m:\u001b[0m\u001b[1;33m\u001b[0m\u001b[1;33m\u001b[0m\u001b[0m\n\u001b[0;32m    196\u001b[0m                     \u001b[0mresponse\u001b[0m \u001b[1;33m=\u001b[0m \u001b[0msession\u001b[0m\u001b[1;33m.\u001b[0m\u001b[0mdelete\u001b[0m\u001b[1;33m(\u001b[0m\u001b[0murl\u001b[0m\u001b[1;33m,\u001b[0m \u001b[0mparams\u001b[0m\u001b[1;33m=\u001b[0m\u001b[0mdata\u001b[0m\u001b[1;33m)\u001b[0m\u001b[1;33m\u001b[0m\u001b[1;33m\u001b[0m\u001b[0m\n",
      "\u001b[1;32m~\\anaconda3\\lib\\site-packages\\requests\\sessions.py\u001b[0m in \u001b[0;36mget\u001b[1;34m(self, url, **kwargs)\u001b[0m\n\u001b[0;32m    541\u001b[0m \u001b[1;33m\u001b[0m\u001b[0m\n\u001b[0;32m    542\u001b[0m         \u001b[0mkwargs\u001b[0m\u001b[1;33m.\u001b[0m\u001b[0msetdefault\u001b[0m\u001b[1;33m(\u001b[0m\u001b[1;34m'allow_redirects'\u001b[0m\u001b[1;33m,\u001b[0m \u001b[1;32mTrue\u001b[0m\u001b[1;33m)\u001b[0m\u001b[1;33m\u001b[0m\u001b[1;33m\u001b[0m\u001b[0m\n\u001b[1;32m--> 543\u001b[1;33m         \u001b[1;32mreturn\u001b[0m \u001b[0mself\u001b[0m\u001b[1;33m.\u001b[0m\u001b[0mrequest\u001b[0m\u001b[1;33m(\u001b[0m\u001b[1;34m'GET'\u001b[0m\u001b[1;33m,\u001b[0m \u001b[0murl\u001b[0m\u001b[1;33m,\u001b[0m \u001b[1;33m**\u001b[0m\u001b[0mkwargs\u001b[0m\u001b[1;33m)\u001b[0m\u001b[1;33m\u001b[0m\u001b[1;33m\u001b[0m\u001b[0m\n\u001b[0m\u001b[0;32m    544\u001b[0m \u001b[1;33m\u001b[0m\u001b[0m\n\u001b[0;32m    545\u001b[0m     \u001b[1;32mdef\u001b[0m \u001b[0moptions\u001b[0m\u001b[1;33m(\u001b[0m\u001b[0mself\u001b[0m\u001b[1;33m,\u001b[0m \u001b[0murl\u001b[0m\u001b[1;33m,\u001b[0m \u001b[1;33m**\u001b[0m\u001b[0mkwargs\u001b[0m\u001b[1;33m)\u001b[0m\u001b[1;33m:\u001b[0m\u001b[1;33m\u001b[0m\u001b[1;33m\u001b[0m\u001b[0m\n",
      "\u001b[1;32m~\\anaconda3\\lib\\site-packages\\requests\\sessions.py\u001b[0m in \u001b[0;36mrequest\u001b[1;34m(self, method, url, params, data, headers, cookies, files, auth, timeout, allow_redirects, proxies, hooks, stream, verify, cert, json)\u001b[0m\n\u001b[0;32m    528\u001b[0m         }\n\u001b[0;32m    529\u001b[0m         \u001b[0msend_kwargs\u001b[0m\u001b[1;33m.\u001b[0m\u001b[0mupdate\u001b[0m\u001b[1;33m(\u001b[0m\u001b[0msettings\u001b[0m\u001b[1;33m)\u001b[0m\u001b[1;33m\u001b[0m\u001b[1;33m\u001b[0m\u001b[0m\n\u001b[1;32m--> 530\u001b[1;33m         \u001b[0mresp\u001b[0m \u001b[1;33m=\u001b[0m \u001b[0mself\u001b[0m\u001b[1;33m.\u001b[0m\u001b[0msend\u001b[0m\u001b[1;33m(\u001b[0m\u001b[0mprep\u001b[0m\u001b[1;33m,\u001b[0m \u001b[1;33m**\u001b[0m\u001b[0msend_kwargs\u001b[0m\u001b[1;33m)\u001b[0m\u001b[1;33m\u001b[0m\u001b[1;33m\u001b[0m\u001b[0m\n\u001b[0m\u001b[0;32m    531\u001b[0m \u001b[1;33m\u001b[0m\u001b[0m\n\u001b[0;32m    532\u001b[0m         \u001b[1;32mreturn\u001b[0m \u001b[0mresp\u001b[0m\u001b[1;33m\u001b[0m\u001b[1;33m\u001b[0m\u001b[0m\n",
      "\u001b[1;32m~\\anaconda3\\lib\\site-packages\\requests\\sessions.py\u001b[0m in \u001b[0;36msend\u001b[1;34m(self, request, **kwargs)\u001b[0m\n\u001b[0;32m    641\u001b[0m \u001b[1;33m\u001b[0m\u001b[0m\n\u001b[0;32m    642\u001b[0m         \u001b[1;31m# Send the request\u001b[0m\u001b[1;33m\u001b[0m\u001b[1;33m\u001b[0m\u001b[1;33m\u001b[0m\u001b[0m\n\u001b[1;32m--> 643\u001b[1;33m         \u001b[0mr\u001b[0m \u001b[1;33m=\u001b[0m \u001b[0madapter\u001b[0m\u001b[1;33m.\u001b[0m\u001b[0msend\u001b[0m\u001b[1;33m(\u001b[0m\u001b[0mrequest\u001b[0m\u001b[1;33m,\u001b[0m \u001b[1;33m**\u001b[0m\u001b[0mkwargs\u001b[0m\u001b[1;33m)\u001b[0m\u001b[1;33m\u001b[0m\u001b[1;33m\u001b[0m\u001b[0m\n\u001b[0m\u001b[0;32m    644\u001b[0m \u001b[1;33m\u001b[0m\u001b[0m\n\u001b[0;32m    645\u001b[0m         \u001b[1;31m# Total elapsed time of the request (approximately)\u001b[0m\u001b[1;33m\u001b[0m\u001b[1;33m\u001b[0m\u001b[1;33m\u001b[0m\u001b[0m\n",
      "\u001b[1;32m~\\anaconda3\\lib\\site-packages\\requests\\adapters.py\u001b[0m in \u001b[0;36msend\u001b[1;34m(self, request, stream, timeout, verify, cert, proxies)\u001b[0m\n\u001b[0;32m    437\u001b[0m         \u001b[1;32mtry\u001b[0m\u001b[1;33m:\u001b[0m\u001b[1;33m\u001b[0m\u001b[1;33m\u001b[0m\u001b[0m\n\u001b[0;32m    438\u001b[0m             \u001b[1;32mif\u001b[0m \u001b[1;32mnot\u001b[0m \u001b[0mchunked\u001b[0m\u001b[1;33m:\u001b[0m\u001b[1;33m\u001b[0m\u001b[1;33m\u001b[0m\u001b[0m\n\u001b[1;32m--> 439\u001b[1;33m                 resp = conn.urlopen(\n\u001b[0m\u001b[0;32m    440\u001b[0m                     \u001b[0mmethod\u001b[0m\u001b[1;33m=\u001b[0m\u001b[0mrequest\u001b[0m\u001b[1;33m.\u001b[0m\u001b[0mmethod\u001b[0m\u001b[1;33m,\u001b[0m\u001b[1;33m\u001b[0m\u001b[1;33m\u001b[0m\u001b[0m\n\u001b[0;32m    441\u001b[0m                     \u001b[0murl\u001b[0m\u001b[1;33m=\u001b[0m\u001b[0murl\u001b[0m\u001b[1;33m,\u001b[0m\u001b[1;33m\u001b[0m\u001b[1;33m\u001b[0m\u001b[0m\n",
      "\u001b[1;32m~\\anaconda3\\lib\\site-packages\\urllib3\\connectionpool.py\u001b[0m in \u001b[0;36murlopen\u001b[1;34m(self, method, url, body, headers, retries, redirect, assert_same_host, timeout, pool_timeout, release_conn, chunked, body_pos, **response_kw)\u001b[0m\n\u001b[0;32m    665\u001b[0m             )\n\u001b[0;32m    666\u001b[0m             \u001b[1;32mif\u001b[0m \u001b[0mis_new_proxy_conn\u001b[0m\u001b[1;33m:\u001b[0m\u001b[1;33m\u001b[0m\u001b[1;33m\u001b[0m\u001b[0m\n\u001b[1;32m--> 667\u001b[1;33m                 \u001b[0mself\u001b[0m\u001b[1;33m.\u001b[0m\u001b[0m_prepare_proxy\u001b[0m\u001b[1;33m(\u001b[0m\u001b[0mconn\u001b[0m\u001b[1;33m)\u001b[0m\u001b[1;33m\u001b[0m\u001b[1;33m\u001b[0m\u001b[0m\n\u001b[0m\u001b[0;32m    668\u001b[0m \u001b[1;33m\u001b[0m\u001b[0m\n\u001b[0;32m    669\u001b[0m             \u001b[1;31m# Make the request on the httplib connection object.\u001b[0m\u001b[1;33m\u001b[0m\u001b[1;33m\u001b[0m\u001b[1;33m\u001b[0m\u001b[0m\n",
      "\u001b[1;32m~\\anaconda3\\lib\\site-packages\\urllib3\\connectionpool.py\u001b[0m in \u001b[0;36m_prepare_proxy\u001b[1;34m(self, conn)\u001b[0m\n\u001b[0;32m    928\u001b[0m         \"\"\"\n\u001b[0;32m    929\u001b[0m         \u001b[0mconn\u001b[0m\u001b[1;33m.\u001b[0m\u001b[0mset_tunnel\u001b[0m\u001b[1;33m(\u001b[0m\u001b[0mself\u001b[0m\u001b[1;33m.\u001b[0m\u001b[0m_proxy_host\u001b[0m\u001b[1;33m,\u001b[0m \u001b[0mself\u001b[0m\u001b[1;33m.\u001b[0m\u001b[0mport\u001b[0m\u001b[1;33m,\u001b[0m \u001b[0mself\u001b[0m\u001b[1;33m.\u001b[0m\u001b[0mproxy_headers\u001b[0m\u001b[1;33m)\u001b[0m\u001b[1;33m\u001b[0m\u001b[1;33m\u001b[0m\u001b[0m\n\u001b[1;32m--> 930\u001b[1;33m         \u001b[0mconn\u001b[0m\u001b[1;33m.\u001b[0m\u001b[0mconnect\u001b[0m\u001b[1;33m(\u001b[0m\u001b[1;33m)\u001b[0m\u001b[1;33m\u001b[0m\u001b[1;33m\u001b[0m\u001b[0m\n\u001b[0m\u001b[0;32m    931\u001b[0m \u001b[1;33m\u001b[0m\u001b[0m\n\u001b[0;32m    932\u001b[0m     \u001b[1;32mdef\u001b[0m \u001b[0m_new_conn\u001b[0m\u001b[1;33m(\u001b[0m\u001b[0mself\u001b[0m\u001b[1;33m)\u001b[0m\u001b[1;33m:\u001b[0m\u001b[1;33m\u001b[0m\u001b[1;33m\u001b[0m\u001b[0m\n",
      "\u001b[1;32m~\\anaconda3\\lib\\site-packages\\urllib3\\connection.py\u001b[0m in \u001b[0;36mconnect\u001b[1;34m(self)\u001b[0m\n\u001b[0;32m    359\u001b[0m             \u001b[0mcontext\u001b[0m\u001b[1;33m.\u001b[0m\u001b[0mload_default_certs\u001b[0m\u001b[1;33m(\u001b[0m\u001b[1;33m)\u001b[0m\u001b[1;33m\u001b[0m\u001b[1;33m\u001b[0m\u001b[0m\n\u001b[0;32m    360\u001b[0m \u001b[1;33m\u001b[0m\u001b[0m\n\u001b[1;32m--> 361\u001b[1;33m         self.sock = ssl_wrap_socket(\n\u001b[0m\u001b[0;32m    362\u001b[0m             \u001b[0msock\u001b[0m\u001b[1;33m=\u001b[0m\u001b[0mconn\u001b[0m\u001b[1;33m,\u001b[0m\u001b[1;33m\u001b[0m\u001b[1;33m\u001b[0m\u001b[0m\n\u001b[0;32m    363\u001b[0m             \u001b[0mkeyfile\u001b[0m\u001b[1;33m=\u001b[0m\u001b[0mself\u001b[0m\u001b[1;33m.\u001b[0m\u001b[0mkey_file\u001b[0m\u001b[1;33m,\u001b[0m\u001b[1;33m\u001b[0m\u001b[1;33m\u001b[0m\u001b[0m\n",
      "\u001b[1;32m~\\anaconda3\\lib\\site-packages\\urllib3\\util\\ssl_.py\u001b[0m in \u001b[0;36mssl_wrap_socket\u001b[1;34m(sock, keyfile, certfile, cert_reqs, ca_certs, server_hostname, ssl_version, ciphers, ssl_context, ca_cert_dir, key_password, ca_cert_data)\u001b[0m\n\u001b[0;32m    341\u001b[0m     \u001b[1;32mif\u001b[0m \u001b[0mca_certs\u001b[0m \u001b[1;32mor\u001b[0m \u001b[0mca_cert_dir\u001b[0m \u001b[1;32mor\u001b[0m \u001b[0mca_cert_data\u001b[0m\u001b[1;33m:\u001b[0m\u001b[1;33m\u001b[0m\u001b[1;33m\u001b[0m\u001b[0m\n\u001b[0;32m    342\u001b[0m         \u001b[1;32mtry\u001b[0m\u001b[1;33m:\u001b[0m\u001b[1;33m\u001b[0m\u001b[1;33m\u001b[0m\u001b[0m\n\u001b[1;32m--> 343\u001b[1;33m             \u001b[0mcontext\u001b[0m\u001b[1;33m.\u001b[0m\u001b[0mload_verify_locations\u001b[0m\u001b[1;33m(\u001b[0m\u001b[0mca_certs\u001b[0m\u001b[1;33m,\u001b[0m \u001b[0mca_cert_dir\u001b[0m\u001b[1;33m,\u001b[0m \u001b[0mca_cert_data\u001b[0m\u001b[1;33m)\u001b[0m\u001b[1;33m\u001b[0m\u001b[1;33m\u001b[0m\u001b[0m\n\u001b[0m\u001b[0;32m    344\u001b[0m         \u001b[1;32mexcept\u001b[0m \u001b[0mIOError\u001b[0m \u001b[1;32mas\u001b[0m \u001b[0me\u001b[0m\u001b[1;33m:\u001b[0m  \u001b[1;31m# Platform-specific: Python 2.7\u001b[0m\u001b[1;33m\u001b[0m\u001b[1;33m\u001b[0m\u001b[0m\n\u001b[0;32m    345\u001b[0m             \u001b[1;32mraise\u001b[0m \u001b[0mSSLError\u001b[0m\u001b[1;33m(\u001b[0m\u001b[0me\u001b[0m\u001b[1;33m)\u001b[0m\u001b[1;33m\u001b[0m\u001b[1;33m\u001b[0m\u001b[0m\n",
      "\u001b[1;31mKeyboardInterrupt\u001b[0m: "
     ]
    }
   ],
   "source": [
    "for dataset_id in dataset_ids:\n",
    "    print ('Get dataset id', dataset_id, end='->')\n",
    "    try:    \n",
    "      dataset = openml.datasets.get_dataset(int(dataset_id))\n",
    "      X, y, categorical_indicator, attribute_names = dataset.get_data(dataset_format='dataframe', target=dataset.default_target_attribute)\n",
    "    #if len(np.unique(y)) != 2:\n",
    "        #print ('Not binary classification')\n",
    "        #continue\n",
    "    \n",
    "      vals = {}\n",
    "      for i, name in enumerate(attribute_names):\n",
    "          vals[name] = X[name]\n",
    "      vals['target'] = y\n",
    "      df = pd.DataFrame(vals)\n",
    "      df.to_csv('DS/{0}.csv'.format(dataset.name), index=False)\n",
    "      print('Dataset {} saved successfully'.format(dataset_id))\n",
    "\n",
    "    except Exception as e:\n",
    "        print('cant be downloaded')"
   ]
  },
  {
   "cell_type": "code",
   "execution_count": 5,
   "metadata": {},
   "outputs": [
    {
     "name": "stdout",
     "output_type": "stream",
     "text": [
      "cant be downloaded\n"
     ]
    }
   ],
   "source": [
    "try:    \n",
    "      dataset = openml.datasets.get_dataset(41790)\n",
    "      X, y, categorical_indicator, attribute_names = dataset.get_data(dataset_format='dataframe', target=dataset.default_target_attribute)\n",
    "    #if len(np.unique(y)) != 2:\n",
    "        #print ('Not binary classification')\n",
    "        #continue\n",
    "    \n",
    "      vals = {}\n",
    "      for i, name in enumerate(attribute_names):\n",
    "          vals[name] = X[name]\n",
    "      vals['target'] = y\n",
    "      df = pd.DataFrame(vals)\n",
    "      df.to_csv('DS/{0}.csv'.format(dataset.name), index=False)\n",
    "      print('Dataset {} saved successfully'.format(dataset_id))\n",
    "\n",
    "except Exception as e:\n",
    "        print('cant be downloaded')"
   ]
  },
  {
   "cell_type": "code",
   "execution_count": 2,
   "metadata": {},
   "outputs": [],
   "source": [
    "openml_ds = openml.datasets.list_datasets(output_format='dataframe')"
   ]
  },
  {
   "cell_type": "code",
   "execution_count": 3,
   "metadata": {},
   "outputs": [
    {
     "data": {
      "text/plain": [
       "Index(['did', 'name', 'version', 'uploader', 'status', 'format',\n",
       "       'MajorityClassSize', 'MaxNominalAttDistinctValues', 'MinorityClassSize',\n",
       "       'NumberOfClasses', 'NumberOfFeatures', 'NumberOfInstances',\n",
       "       'NumberOfInstancesWithMissingValues', 'NumberOfMissingValues',\n",
       "       'NumberOfNumericFeatures', 'NumberOfSymbolicFeatures'],\n",
       "      dtype='object')"
      ]
     },
     "execution_count": 3,
     "metadata": {},
     "output_type": "execute_result"
    }
   ],
   "source": [
    "openml_ds.columns"
   ]
  },
  {
   "cell_type": "code",
   "execution_count": null,
   "metadata": {},
   "outputs": [],
   "source": []
  },
  {
   "cell_type": "code",
   "execution_count": 34,
   "metadata": {
    "collapsed": true,
    "jupyter": {
     "outputs_hidden": true
    }
   },
   "outputs": [
    {
     "data": {
      "text/plain": [
       "(321, 16)"
      ]
     },
     "execution_count": 34,
     "metadata": {},
     "output_type": "execute_result"
    }
   ],
   "source": [
    "m = openml_ds[(openml_ds.NumberOfInstances > 500) & (openml_ds.NumberOfMissingValues < 10)& (\"FOREX\" not in list(openml_ds['name'])) &\n",
    "              (openml_ds.NumberOfNumericFeatures == openml_ds.NumberOfFeatures-1)&\n",
    "              (openml_ds.NumberOfFeatures > 4) & (openml_ds.NumberOfFeatures < 40)&\n",
    "              (openml_ds.NumberOfClasses > 0) & (openml_ds.NumberOfClasses < 10)]\n",
    "\n",
    "m.shape\n",
    "\n"
   ]
  },
  {
   "cell_type": "code",
   "execution_count": null,
   "metadata": {},
   "outputs": [],
   "source": []
  },
  {
   "cell_type": "code",
   "execution_count": 11,
   "metadata": {},
   "outputs": [
    {
     "data": {
      "text/html": [
       "<div>\n",
       "<style scoped>\n",
       "    .dataframe tbody tr th:only-of-type {\n",
       "        vertical-align: middle;\n",
       "    }\n",
       "\n",
       "    .dataframe tbody tr th {\n",
       "        vertical-align: top;\n",
       "    }\n",
       "\n",
       "    .dataframe thead th {\n",
       "        text-align: right;\n",
       "    }\n",
       "</style>\n",
       "<table border=\"1\" class=\"dataframe\">\n",
       "  <thead>\n",
       "    <tr style=\"text-align: right;\">\n",
       "      <th></th>\n",
       "      <th>dataset</th>\n",
       "      <th>#instances</th>\n",
       "      <th>#features</th>\n",
       "      <th>#binary_features</th>\n",
       "      <th>#categorical_features</th>\n",
       "      <th>#continuous_features</th>\n",
       "      <th>Endpoint_type</th>\n",
       "      <th>#Classes</th>\n",
       "      <th>Imbalance_metric</th>\n",
       "      <th>problem_type</th>\n",
       "    </tr>\n",
       "  </thead>\n",
       "  <tbody>\n",
       "    <tr>\n",
       "      <th>0</th>\n",
       "      <td>658_fri_c3_250_25</td>\n",
       "      <td>250</td>\n",
       "      <td>25</td>\n",
       "      <td>0</td>\n",
       "      <td>0.0</td>\n",
       "      <td>25.0</td>\n",
       "      <td>continuous</td>\n",
       "      <td>250.0</td>\n",
       "      <td>0.000000</td>\n",
       "      <td>regression</td>\n",
       "    </tr>\n",
       "    <tr>\n",
       "      <th>1</th>\n",
       "      <td>Hill_Valley_with_noise</td>\n",
       "      <td>1212</td>\n",
       "      <td>100</td>\n",
       "      <td>0</td>\n",
       "      <td>0.0</td>\n",
       "      <td>100.0</td>\n",
       "      <td>binary</td>\n",
       "      <td>2.0</td>\n",
       "      <td>0.000000</td>\n",
       "      <td>classification</td>\n",
       "    </tr>\n",
       "    <tr>\n",
       "      <th>2</th>\n",
       "      <td>mfeat_zernike</td>\n",
       "      <td>2000</td>\n",
       "      <td>47</td>\n",
       "      <td>0</td>\n",
       "      <td>0.0</td>\n",
       "      <td>47.0</td>\n",
       "      <td>categorical</td>\n",
       "      <td>10.0</td>\n",
       "      <td>0.000000</td>\n",
       "      <td>classification</td>\n",
       "    </tr>\n",
       "    <tr>\n",
       "      <th>3</th>\n",
       "      <td>mnist</td>\n",
       "      <td>70000</td>\n",
       "      <td>784</td>\n",
       "      <td>19</td>\n",
       "      <td>765.0</td>\n",
       "      <td>0.0</td>\n",
       "      <td>categorical</td>\n",
       "      <td>10.0</td>\n",
       "      <td>0.000325</td>\n",
       "      <td>classification</td>\n",
       "    </tr>\n",
       "    <tr>\n",
       "      <th>4</th>\n",
       "      <td>678_visualizing_environmental</td>\n",
       "      <td>111</td>\n",
       "      <td>3</td>\n",
       "      <td>0</td>\n",
       "      <td>0.0</td>\n",
       "      <td>3.0</td>\n",
       "      <td>continuous</td>\n",
       "      <td>28.0</td>\n",
       "      <td>0.019608</td>\n",
       "      <td>regression</td>\n",
       "    </tr>\n",
       "    <tr>\n",
       "      <th>...</th>\n",
       "      <td>...</td>\n",
       "      <td>...</td>\n",
       "      <td>...</td>\n",
       "      <td>...</td>\n",
       "      <td>...</td>\n",
       "      <td>...</td>\n",
       "      <td>...</td>\n",
       "      <td>...</td>\n",
       "      <td>...</td>\n",
       "      <td>...</td>\n",
       "    </tr>\n",
       "    <tr>\n",
       "      <th>281</th>\n",
       "      <td>page_blocks</td>\n",
       "      <td>5473</td>\n",
       "      <td>10</td>\n",
       "      <td>0</td>\n",
       "      <td>0.0</td>\n",
       "      <td>10.0</td>\n",
       "      <td>categorical</td>\n",
       "      <td>5.0</td>\n",
       "      <td>0.762710</td>\n",
       "      <td>classification</td>\n",
       "    </tr>\n",
       "    <tr>\n",
       "      <th>282</th>\n",
       "      <td>postoperative_patient_data</td>\n",
       "      <td>88</td>\n",
       "      <td>8</td>\n",
       "      <td>2</td>\n",
       "      <td>6.0</td>\n",
       "      <td>0.0</td>\n",
       "      <td>binary</td>\n",
       "      <td>2.0</td>\n",
       "      <td>0.206612</td>\n",
       "      <td>classification</td>\n",
       "    </tr>\n",
       "    <tr>\n",
       "      <th>283</th>\n",
       "      <td>labor</td>\n",
       "      <td>57</td>\n",
       "      <td>16</td>\n",
       "      <td>0</td>\n",
       "      <td>16.0</td>\n",
       "      <td>0.0</td>\n",
       "      <td>binary</td>\n",
       "      <td>2.0</td>\n",
       "      <td>0.088950</td>\n",
       "      <td>classification</td>\n",
       "    </tr>\n",
       "    <tr>\n",
       "      <th>284</th>\n",
       "      <td>clean2</td>\n",
       "      <td>6598</td>\n",
       "      <td>168</td>\n",
       "      <td>0</td>\n",
       "      <td>2.0</td>\n",
       "      <td>166.0</td>\n",
       "      <td>binary</td>\n",
       "      <td>2.0</td>\n",
       "      <td>0.478483</td>\n",
       "      <td>classification</td>\n",
       "    </tr>\n",
       "    <tr>\n",
       "      <th>285</th>\n",
       "      <td>229_pwLinear</td>\n",
       "      <td>200</td>\n",
       "      <td>10</td>\n",
       "      <td>0</td>\n",
       "      <td>0.0</td>\n",
       "      <td>10.0</td>\n",
       "      <td>continuous</td>\n",
       "      <td>189.0</td>\n",
       "      <td>0.000311</td>\n",
       "      <td>regression</td>\n",
       "    </tr>\n",
       "  </tbody>\n",
       "</table>\n",
       "<p>286 rows × 10 columns</p>\n",
       "</div>"
      ],
      "text/plain": [
       "                           dataset  #instances  #features  #binary_features  \\\n",
       "0                658_fri_c3_250_25         250         25                 0   \n",
       "1           Hill_Valley_with_noise        1212        100                 0   \n",
       "2                    mfeat_zernike        2000         47                 0   \n",
       "3                            mnist       70000        784                19   \n",
       "4    678_visualizing_environmental         111          3                 0   \n",
       "..                             ...         ...        ...               ...   \n",
       "281                    page_blocks        5473         10                 0   \n",
       "282     postoperative_patient_data          88          8                 2   \n",
       "283                          labor          57         16                 0   \n",
       "284                         clean2        6598        168                 0   \n",
       "285                   229_pwLinear         200         10                 0   \n",
       "\n",
       "     #categorical_features  #continuous_features Endpoint_type  #Classes  \\\n",
       "0                      0.0                  25.0    continuous     250.0   \n",
       "1                      0.0                 100.0        binary       2.0   \n",
       "2                      0.0                  47.0   categorical      10.0   \n",
       "3                    765.0                   0.0   categorical      10.0   \n",
       "4                      0.0                   3.0    continuous      28.0   \n",
       "..                     ...                   ...           ...       ...   \n",
       "281                    0.0                  10.0   categorical       5.0   \n",
       "282                    6.0                   0.0        binary       2.0   \n",
       "283                   16.0                   0.0        binary       2.0   \n",
       "284                    2.0                 166.0        binary       2.0   \n",
       "285                    0.0                  10.0    continuous     189.0   \n",
       "\n",
       "     Imbalance_metric    problem_type  \n",
       "0            0.000000      regression  \n",
       "1            0.000000  classification  \n",
       "2            0.000000  classification  \n",
       "3            0.000325  classification  \n",
       "4            0.019608      regression  \n",
       "..                ...             ...  \n",
       "281          0.762710  classification  \n",
       "282          0.206612  classification  \n",
       "283          0.088950  classification  \n",
       "284          0.478483  classification  \n",
       "285          0.000311      regression  \n",
       "\n",
       "[286 rows x 10 columns]"
      ]
     },
     "execution_count": 11,
     "metadata": {},
     "output_type": "execute_result"
    }
   ],
   "source": [
    "summary = pd.read_csv('all_summary_stats.csv')\n",
    "summary"
   ]
  },
  {
   "cell_type": "code",
   "execution_count": 37,
   "metadata": {},
   "outputs": [
    {
     "data": {
      "text/plain": [
       "152"
      ]
     },
     "execution_count": 37,
     "metadata": {},
     "output_type": "execute_result"
    }
   ],
   "source": [
    "files = glob.glob('Datasets/penndatasets/'+'*.csv')\n",
    "files=[files[i].replace('Datasets/penndatasets\\\\','') for i in range(len(files))]\n",
    "files=[files[i].replace('.csv','') for i in range(len(files))]\n",
    "len(files)"
   ]
  },
  {
   "cell_type": "code",
   "execution_count": 27,
   "metadata": {},
   "outputs": [],
   "source": [
    "summary=summary[(summary['#instances'] >290) & (summary.problem_type==\"classification\")]"
   ]
  },
  {
   "cell_type": "code",
   "execution_count": 33,
   "metadata": {},
   "outputs": [],
   "source": [
    "final=list(summary.dataset)"
   ]
  },
  {
   "cell_type": "code",
   "execution_count": 46,
   "metadata": {},
   "outputs": [
    {
     "data": {
      "text/plain": [
       "'Hill_Valley_with_noise'"
      ]
     },
     "execution_count": 46,
     "metadata": {},
     "output_type": "execute_result"
    }
   ],
   "source": [
    "summary.values[0][0]"
   ]
  },
  {
   "cell_type": "markdown",
   "metadata": {},
   "source": [
    "### "
   ]
  },
  {
   "cell_type": "code",
   "execution_count": 38,
   "metadata": {},
   "outputs": [
    {
     "data": {
      "text/plain": [
       "119"
      ]
     },
     "execution_count": 38,
     "metadata": {},
     "output_type": "execute_result"
    }
   ],
   "source": [
    "len(final)"
   ]
  },
  {
   "cell_type": "code",
   "execution_count": 40,
   "metadata": {},
   "outputs": [],
   "source": [
    "for f in files:\n",
    "    if f not in final:\n",
    "        shutil.move('Datasets/penndatasets/'+f+'.csv','Datasets/ne_need'+f+'.csv')"
   ]
  },
  {
   "cell_type": "code",
   "execution_count": 47,
   "metadata": {},
   "outputs": [
    {
     "data": {
      "text/html": [
       "<div>\n",
       "<style scoped>\n",
       "    .dataframe tbody tr th:only-of-type {\n",
       "        vertical-align: middle;\n",
       "    }\n",
       "\n",
       "    .dataframe tbody tr th {\n",
       "        vertical-align: top;\n",
       "    }\n",
       "\n",
       "    .dataframe thead th {\n",
       "        text-align: right;\n",
       "    }\n",
       "</style>\n",
       "<table border=\"1\" class=\"dataframe\">\n",
       "  <thead>\n",
       "    <tr style=\"text-align: right;\">\n",
       "      <th></th>\n",
       "      <th>dataset</th>\n",
       "      <th>#instances</th>\n",
       "      <th>#features</th>\n",
       "      <th>#binary_features</th>\n",
       "      <th>#categorical_features</th>\n",
       "      <th>#continuous_features</th>\n",
       "      <th>Endpoint_type</th>\n",
       "      <th>#Classes</th>\n",
       "      <th>Imbalance_metric</th>\n",
       "      <th>problem_type</th>\n",
       "    </tr>\n",
       "  </thead>\n",
       "  <tbody>\n",
       "    <tr>\n",
       "      <th>1</th>\n",
       "      <td>Hill_Valley_with_noise</td>\n",
       "      <td>1212</td>\n",
       "      <td>100</td>\n",
       "      <td>0</td>\n",
       "      <td>0.0</td>\n",
       "      <td>100.0</td>\n",
       "      <td>binary</td>\n",
       "      <td>2.0</td>\n",
       "      <td>0.000000</td>\n",
       "      <td>classification</td>\n",
       "    </tr>\n",
       "    <tr>\n",
       "      <th>2</th>\n",
       "      <td>mfeat_zernike</td>\n",
       "      <td>2000</td>\n",
       "      <td>47</td>\n",
       "      <td>0</td>\n",
       "      <td>0.0</td>\n",
       "      <td>47.0</td>\n",
       "      <td>categorical</td>\n",
       "      <td>10.0</td>\n",
       "      <td>0.000000</td>\n",
       "      <td>classification</td>\n",
       "    </tr>\n",
       "    <tr>\n",
       "      <th>3</th>\n",
       "      <td>mnist</td>\n",
       "      <td>70000</td>\n",
       "      <td>784</td>\n",
       "      <td>19</td>\n",
       "      <td>765.0</td>\n",
       "      <td>0.0</td>\n",
       "      <td>categorical</td>\n",
       "      <td>10.0</td>\n",
       "      <td>0.000325</td>\n",
       "      <td>classification</td>\n",
       "    </tr>\n",
       "    <tr>\n",
       "      <th>8</th>\n",
       "      <td>analcatdata_germangss</td>\n",
       "      <td>400</td>\n",
       "      <td>5</td>\n",
       "      <td>2</td>\n",
       "      <td>2.0</td>\n",
       "      <td>1.0</td>\n",
       "      <td>categorical</td>\n",
       "      <td>4.0</td>\n",
       "      <td>0.000000</td>\n",
       "      <td>classification</td>\n",
       "    </tr>\n",
       "    <tr>\n",
       "      <th>9</th>\n",
       "      <td>vote</td>\n",
       "      <td>435</td>\n",
       "      <td>16</td>\n",
       "      <td>0</td>\n",
       "      <td>16.0</td>\n",
       "      <td>0.0</td>\n",
       "      <td>binary</td>\n",
       "      <td>2.0</td>\n",
       "      <td>0.051795</td>\n",
       "      <td>classification</td>\n",
       "    </tr>\n",
       "    <tr>\n",
       "      <th>...</th>\n",
       "      <td>...</td>\n",
       "      <td>...</td>\n",
       "      <td>...</td>\n",
       "      <td>...</td>\n",
       "      <td>...</td>\n",
       "      <td>...</td>\n",
       "      <td>...</td>\n",
       "      <td>...</td>\n",
       "      <td>...</td>\n",
       "      <td>...</td>\n",
       "    </tr>\n",
       "    <tr>\n",
       "      <th>273</th>\n",
       "      <td>dermatology</td>\n",
       "      <td>366</td>\n",
       "      <td>34</td>\n",
       "      <td>1</td>\n",
       "      <td>33.0</td>\n",
       "      <td>0.0</td>\n",
       "      <td>categorical</td>\n",
       "      <td>6.0</td>\n",
       "      <td>0.041458</td>\n",
       "      <td>classification</td>\n",
       "    </tr>\n",
       "    <tr>\n",
       "      <th>274</th>\n",
       "      <td>churn</td>\n",
       "      <td>5000</td>\n",
       "      <td>20</td>\n",
       "      <td>2</td>\n",
       "      <td>2.0</td>\n",
       "      <td>16.0</td>\n",
       "      <td>binary</td>\n",
       "      <td>2.0</td>\n",
       "      <td>0.514376</td>\n",
       "      <td>classification</td>\n",
       "    </tr>\n",
       "    <tr>\n",
       "      <th>280</th>\n",
       "      <td>solar_flare_2</td>\n",
       "      <td>1066</td>\n",
       "      <td>12</td>\n",
       "      <td>4</td>\n",
       "      <td>8.0</td>\n",
       "      <td>0.0</td>\n",
       "      <td>categorical</td>\n",
       "      <td>6.0</td>\n",
       "      <td>0.057334</td>\n",
       "      <td>classification</td>\n",
       "    </tr>\n",
       "    <tr>\n",
       "      <th>281</th>\n",
       "      <td>page_blocks</td>\n",
       "      <td>5473</td>\n",
       "      <td>10</td>\n",
       "      <td>0</td>\n",
       "      <td>0.0</td>\n",
       "      <td>10.0</td>\n",
       "      <td>categorical</td>\n",
       "      <td>5.0</td>\n",
       "      <td>0.762710</td>\n",
       "      <td>classification</td>\n",
       "    </tr>\n",
       "    <tr>\n",
       "      <th>284</th>\n",
       "      <td>clean2</td>\n",
       "      <td>6598</td>\n",
       "      <td>168</td>\n",
       "      <td>0</td>\n",
       "      <td>2.0</td>\n",
       "      <td>166.0</td>\n",
       "      <td>binary</td>\n",
       "      <td>2.0</td>\n",
       "      <td>0.478483</td>\n",
       "      <td>classification</td>\n",
       "    </tr>\n",
       "  </tbody>\n",
       "</table>\n",
       "<p>119 rows × 10 columns</p>\n",
       "</div>"
      ],
      "text/plain": [
       "                    dataset  #instances  #features  #binary_features  \\\n",
       "1    Hill_Valley_with_noise        1212        100                 0   \n",
       "2             mfeat_zernike        2000         47                 0   \n",
       "3                     mnist       70000        784                19   \n",
       "8     analcatdata_germangss         400          5                 2   \n",
       "9                      vote         435         16                 0   \n",
       "..                      ...         ...        ...               ...   \n",
       "273             dermatology         366         34                 1   \n",
       "274                   churn        5000         20                 2   \n",
       "280           solar_flare_2        1066         12                 4   \n",
       "281             page_blocks        5473         10                 0   \n",
       "284                  clean2        6598        168                 0   \n",
       "\n",
       "     #categorical_features  #continuous_features Endpoint_type  #Classes  \\\n",
       "1                      0.0                 100.0        binary       2.0   \n",
       "2                      0.0                  47.0   categorical      10.0   \n",
       "3                    765.0                   0.0   categorical      10.0   \n",
       "8                      2.0                   1.0   categorical       4.0   \n",
       "9                     16.0                   0.0        binary       2.0   \n",
       "..                     ...                   ...           ...       ...   \n",
       "273                   33.0                   0.0   categorical       6.0   \n",
       "274                    2.0                  16.0        binary       2.0   \n",
       "280                    8.0                   0.0   categorical       6.0   \n",
       "281                    0.0                  10.0   categorical       5.0   \n",
       "284                    2.0                 166.0        binary       2.0   \n",
       "\n",
       "     Imbalance_metric    problem_type  \n",
       "1            0.000000  classification  \n",
       "2            0.000000  classification  \n",
       "3            0.000325  classification  \n",
       "8            0.000000  classification  \n",
       "9            0.051795  classification  \n",
       "..                ...             ...  \n",
       "273          0.041458  classification  \n",
       "274          0.514376  classification  \n",
       "280          0.057334  classification  \n",
       "281          0.762710  classification  \n",
       "284          0.478483  classification  \n",
       "\n",
       "[119 rows x 10 columns]"
      ]
     },
     "execution_count": 47,
     "metadata": {},
     "output_type": "execute_result"
    }
   ],
   "source": [
    "summary"
   ]
  },
  {
   "cell_type": "code",
   "execution_count": null,
   "metadata": {},
   "outputs": [],
   "source": []
  }
 ],
 "metadata": {
  "kernelspec": {
   "display_name": "Python 3",
   "language": "python",
   "name": "python3"
  },
  "language_info": {
   "codemirror_mode": {
    "name": "ipython",
    "version": 3
   },
   "file_extension": ".py",
   "mimetype": "text/x-python",
   "name": "python",
   "nbconvert_exporter": "python",
   "pygments_lexer": "ipython3",
   "version": "3.8.3"
  }
 },
 "nbformat": 4,
 "nbformat_minor": 4
}
