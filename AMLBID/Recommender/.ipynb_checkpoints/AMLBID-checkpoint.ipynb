{
 "cells": [
  {
   "cell_type": "code",
   "execution_count": 1,
   "metadata": {},
   "outputs": [],
   "source": [
    "from PipelineGenerator.loader import *\n",
    "from PipelineGenerator.generator import *\n",
    "from MetafeatureExtraction.metafeatures import *"
   ]
  },
  {
   "cell_type": "code",
   "execution_count": 2,
   "metadata": {},
   "outputs": [],
   "source": [
    "path_to_datasets = 'Files/Test/allbp.csv'\n",
    "path='Files/Test/'\n",
    "test=pd.read_csv(path_to_datasets,sep=',')"
   ]
  },
  {
   "cell_type": "markdown",
   "metadata": {},
   "source": [
    "#### Extract test DS metafeatures"
   ]
  },
  {
   "cell_type": "code",
   "execution_count": 3,
   "metadata": {},
   "outputs": [
    {
     "name": "stdout",
     "output_type": "stream",
     "text": [
      "Dataset 1(Files/Test\\allbp.csv)\n"
     ]
    },
    {
     "data": {
      "text/html": [
       "<div>\n",
       "<style scoped>\n",
       "    .dataframe tbody tr th:only-of-type {\n",
       "        vertical-align: middle;\n",
       "    }\n",
       "\n",
       "    .dataframe tbody tr th {\n",
       "        vertical-align: top;\n",
       "    }\n",
       "\n",
       "    .dataframe thead th {\n",
       "        text-align: right;\n",
       "    }\n",
       "</style>\n",
       "<table border=\"1\" class=\"dataframe\">\n",
       "  <thead>\n",
       "    <tr style=\"text-align: right;\">\n",
       "      <th></th>\n",
       "      <th>nr_classes</th>\n",
       "      <th>nr_instances</th>\n",
       "      <th>log_nr_instances</th>\n",
       "      <th>nr_features</th>\n",
       "      <th>log_nr_features</th>\n",
       "      <th>dataset_ratio</th>\n",
       "      <th>skew_min</th>\n",
       "      <th>skew_std</th>\n",
       "      <th>skew_mean</th>\n",
       "      <th>skew_q1</th>\n",
       "      <th>...</th>\n",
       "      <th>mi_min</th>\n",
       "      <th>mi_mean</th>\n",
       "      <th>mi_std</th>\n",
       "      <th>mi_max</th>\n",
       "      <th>equiv_nr_feat</th>\n",
       "      <th>noise_signal_ratio</th>\n",
       "      <th>Landmarker_1NN</th>\n",
       "      <th>Landmarker_dt</th>\n",
       "      <th>Landmarker_gnb</th>\n",
       "      <th>Landmarker_lda</th>\n",
       "    </tr>\n",
       "  </thead>\n",
       "  <tbody>\n",
       "    <tr>\n",
       "      <th>0</th>\n",
       "      <td>3</td>\n",
       "      <td>3772</td>\n",
       "      <td>8.235361</td>\n",
       "      <td>23</td>\n",
       "      <td>3.135494</td>\n",
       "      <td>0.006098</td>\n",
       "      <td>0.066356</td>\n",
       "      <td>12.16133</td>\n",
       "      <td>6.772093</td>\n",
       "      <td>1.530039</td>\n",
       "      <td>...</td>\n",
       "      <td>0.000012</td>\n",
       "      <td>0.010953</td>\n",
       "      <td>0.020991</td>\n",
       "      <td>0.079326</td>\n",
       "      <td>25.116494</td>\n",
       "      <td>5.595307</td>\n",
       "      <td>0.954399</td>\n",
       "      <td>0.968449</td>\n",
       "      <td>0.273083</td>\n",
       "      <td>0.963679</td>\n",
       "    </tr>\n",
       "  </tbody>\n",
       "</table>\n",
       "<p>1 rows × 41 columns</p>\n",
       "</div>"
      ],
      "text/plain": [
       "   nr_classes  nr_instances  log_nr_instances  nr_features  log_nr_features  \\\n",
       "0           3          3772          8.235361           23         3.135494   \n",
       "\n",
       "   dataset_ratio  skew_min  skew_std  skew_mean   skew_q1  ...    mi_min  \\\n",
       "0       0.006098  0.066356  12.16133   6.772093  1.530039  ...  0.000012   \n",
       "\n",
       "    mi_mean    mi_std    mi_max  equiv_nr_feat  noise_signal_ratio  \\\n",
       "0  0.010953  0.020991  0.079326      25.116494            5.595307   \n",
       "\n",
       "   Landmarker_1NN  Landmarker_dt  Landmarker_gnb  Landmarker_lda  \n",
       "0        0.954399       0.968449        0.273083        0.963679  \n",
       "\n",
       "[1 rows x 41 columns]"
      ]
     },
     "execution_count": 3,
     "metadata": {},
     "output_type": "execute_result"
    }
   ],
   "source": [
    "\n",
    "MF=ExtractMetaFeatures(path).drop(['dataset'], axis=1)\n",
    "MF"
   ]
  },
  {
   "cell_type": "code",
   "execution_count": 4,
   "metadata": {},
   "outputs": [
    {
     "data": {
      "text/plain": [
       "[['allbp.csv', 0.0007925372418950471], ['allhyper.csv', 17.41451894097991]]"
      ]
     },
     "execution_count": 4,
     "metadata": {},
     "output_type": "execute_result"
    }
   ],
   "source": [
    "Knn=get_neighbors(MF,2)\n",
    "Knn"
   ]
  },
  {
   "cell_type": "code",
   "execution_count": 5,
   "metadata": {},
   "outputs": [
    {
     "data": {
      "text/plain": [
       "'allbp.csv'"
      ]
     },
     "execution_count": 5,
     "metadata": {},
     "output_type": "execute_result"
    }
   ],
   "source": [
    "Knn[0][0]"
   ]
  },
  {
   "cell_type": "code",
   "execution_count": 6,
   "metadata": {},
   "outputs": [
    {
     "data": {
      "text/plain": [
       "('ExtraTrees',\n",
       " ExtraTreesClassifier(criterion='entropy', max_features=0.8081203060034393,\n",
       "                      min_samples_leaf=2, min_samples_split=9))"
      ]
     },
     "execution_count": 6,
     "metadata": {},
     "output_type": "execute_result"
    }
   ],
   "source": [
    "p=get_pipelines(Knn[0][0])\n",
    "p"
   ]
  },
  {
   "cell_type": "code",
   "execution_count": 7,
   "metadata": {},
   "outputs": [],
   "source": [
    "generate_pipeline_file(p[0],p[1],'Files/Test/allbp.csv')"
   ]
  },
  {
   "cell_type": "code",
   "execution_count": 8,
   "metadata": {},
   "outputs": [
    {
     "data": {
      "text/plain": [
       "('ExtraTrees',\n",
       " [\"{'n_estimators': 100, 'bootstrap': False, 'max_features': 0.8081203060034393, 'min_samples_leaf': 2, 'min_samples_split': 9, 'criterion': 'entropy'}\"])"
      ]
     },
     "execution_count": 8,
     "metadata": {},
     "output_type": "execute_result"
    }
   ],
   "source": [
    "get_neighbor_data(Knn[0][0])"
   ]
  },
  {
   "cell_type": "code",
   "execution_count": 9,
   "metadata": {},
   "outputs": [
    {
     "name": "stdout",
     "output_type": "stream",
     "text": [
      "              precision    recall  f1-score   support\n",
      "\n",
      "           0       1.00      0.33      0.50         3\n",
      "           1       0.68      0.61      0.64        41\n",
      "           2       0.98      0.99      0.99      1088\n",
      "\n",
      "    accuracy                           0.97      1132\n",
      "   macro avg       0.89      0.64      0.71      1132\n",
      "weighted avg       0.97      0.97      0.97      1132\n",
      "\n",
      " Pipeline test accuracy:  0.973\n"
     ]
    }
   ],
   "source": [
    "%run Recommended_pypeline.py"
   ]
  },
  {
   "cell_type": "code",
   "execution_count": null,
   "metadata": {},
   "outputs": [],
   "source": [
    "--------------------------------------------------------------------------------------------------------"
   ]
  },
  {
   "cell_type": "code",
   "execution_count": 31,
   "metadata": {},
   "outputs": [],
   "source": [
    "class AMLBID :\n",
    "    \n",
    "    def __init__(self,):\n",
    "        self.path = 'Files/Test/'    \n",
    "        \n",
    "    def recommend(self, ds_path):\n",
    "        self.ds_path=ds_path\n",
    "        data=pd.read_csv(ds_path,sep=',')\n",
    "        MF=ExtractMetaFeatures(self.path).drop(['dataset'], axis=1)\n",
    "        Knn=get_neighbors(MF)\n",
    "        pipeline=get_pipelines(Knn[0][0])\n",
    "        generate_pipeline_file(pipeline[0],pipeline[1],'Files/Test/allbp.csv')\n",
    "        print(colored('Recommended configuration implementation:`\\n\\n', 'blue', attrs=['bold','underline']))\n",
    "        !cat Recommended_pypeline.py\n",
    "        \n",
    "        "
   ]
  },
  {
   "cell_type": "code",
   "execution_count": 32,
   "metadata": {},
   "outputs": [],
   "source": [
    "a=AMLBID()"
   ]
  },
  {
   "cell_type": "code",
   "execution_count": 33,
   "metadata": {},
   "outputs": [
    {
     "name": "stdout",
     "output_type": "stream",
     "text": [
      "Dataset 1(Files/Test\\allbp.csv)\n",
      "\u001b[4m\u001b[1m\u001b[34mRecommended configuration implementation:`\n",
      "\n",
      "\u001b[0m\n"
     ]
    },
    {
     "name": "stderr",
     "output_type": "stream",
     "text": [
      "'cat' n'est pas reconnu en tant que commande interne\n",
      "ou externe, un programme ex‚cutable ou un fichier de commandes.\n"
     ]
    }
   ],
   "source": [
    "a.recommend('Files/Test/allbp.csv')"
   ]
  },
  {
   "cell_type": "code",
   "execution_count": null,
   "metadata": {},
   "outputs": [],
   "source": []
  }
 ],
 "metadata": {
  "kernelspec": {
   "display_name": "Python 3",
   "language": "python",
   "name": "python3"
  },
  "language_info": {
   "codemirror_mode": {
    "name": "ipython",
    "version": 3
   },
   "file_extension": ".py",
   "mimetype": "text/x-python",
   "name": "python",
   "nbconvert_exporter": "python",
   "pygments_lexer": "ipython3",
   "version": "3.8.3"
  }
 },
 "nbformat": 4,
 "nbformat_minor": 4
}
