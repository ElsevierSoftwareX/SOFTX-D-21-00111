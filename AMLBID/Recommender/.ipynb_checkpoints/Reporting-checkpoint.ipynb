{
 "cells": [
  {
   "cell_type": "code",
   "execution_count": 10,
   "metadata": {},
   "outputs": [],
   "source": [
    "import pandas as pd\n",
    "import numpy as np\n",
    "import glob\n",
    "import math\n",
    "from scipy.stats import kurtosis, skew\n"
   ]
  },
  {
   "cell_type": "code",
   "execution_count": 2,
   "metadata": {},
   "outputs": [],
   "source": [
    "MF=pd.read_csv(\"metafeatures.csv\")"
   ]
  },
  {
   "cell_type": "code",
   "execution_count": 3,
   "metadata": {},
   "outputs": [
    {
     "data": {
      "text/plain": [
       "(200, 42)"
      ]
     },
     "execution_count": 3,
     "metadata": {},
     "output_type": "execute_result"
    }
   ],
   "source": [
    "MF.shape"
   ]
  },
  {
   "cell_type": "markdown",
   "metadata": {},
   "source": [
    "* # Classes"
   ]
  },
  {
   "cell_type": "code",
   "execution_count": 11,
   "metadata": {},
   "outputs": [
    {
     "name": "stdout",
     "output_type": "stream",
     "text": [
      "Max: 18\n",
      "Min: 2\n",
      "Avg: 3.05\n",
      "kurtosis: 10.576533121953513\n",
      "skew: 3.050857913851853\n",
      "uniques: [ 2  3  4  5  7  8 18 10 15  6 11]\n"
     ]
    }
   ],
   "source": [
    "classes=MF['nr_classes']\n",
    "\n",
    "print('Max: {}'.format(max(classes)))\n",
    "print('Min: {}'.format(min(classes)))\n",
    "print('Avg: {}'.format(np.mean(classes)))\n",
    "print('kurtosis: {}'.format(kurtosis(classes)))\n",
    "print('skew: {}'.format(skew(classes)))\n",
    "\n",
    "print('uniques: {}'.format(classes.unique()))"
   ]
  },
  {
   "cell_type": "markdown",
   "metadata": {},
   "source": [
    "* # Instances"
   ]
  },
  {
   "cell_type": "code",
   "execution_count": 12,
   "metadata": {},
   "outputs": [
    {
     "name": "stdout",
     "output_type": "stream",
     "text": [
      "Max: 105908\n",
      "Min: 350\n",
      "Avg: 15190.03\n",
      "kurtosis: 4.573941412590579\n",
      "skew: 2.101341401940946\n"
     ]
    }
   ],
   "source": [
    "instances=MF['nr_instances']\n",
    "\n",
    "print('Max: {}'.format(max(instances)))\n",
    "print('Min: {}'.format(min(instances)))\n",
    "print('Avg: {}'.format(np.mean(instances)))\n",
    "print('kurtosis: {}'.format(kurtosis(instances)))\n",
    "print('skew: {}'.format(skew(instances)))"
   ]
  },
  {
   "cell_type": "markdown",
   "metadata": {},
   "source": [
    "* # Features"
   ]
  },
  {
   "cell_type": "code",
   "execution_count": 13,
   "metadata": {},
   "outputs": [
    {
     "name": "stdout",
     "output_type": "stream",
     "text": [
      "Max: 1000\n",
      "Min: 3\n",
      "Avg: 27.8\n",
      "kurtosis: 134.68969521158354\n",
      "skew: 10.922537409120523\n"
     ]
    }
   ],
   "source": [
    "features=MF['nr_features']\n",
    "\n",
    "print('Max: {}'.format(max(features)))\n",
    "print('Min: {}'.format(min(features)))\n",
    "print('Avg: {}'.format(np.mean(features)))\n",
    "print('kurtosis: {}'.format(kurtosis(features)))\n",
    "print('skew: {}'.format(skew(features)))"
   ]
  },
  {
   "cell_type": "code",
   "execution_count": null,
   "metadata": {},
   "outputs": [],
   "source": []
  }
 ],
 "metadata": {
  "kernelspec": {
   "display_name": "Python 3",
   "language": "python",
   "name": "python3"
  },
  "language_info": {
   "codemirror_mode": {
    "name": "ipython",
    "version": 3
   },
   "file_extension": ".py",
   "mimetype": "text/x-python",
   "name": "python",
   "nbconvert_exporter": "python",
   "pygments_lexer": "ipython3",
   "version": "3.8.3"
  }
 },
 "nbformat": 4,
 "nbformat_minor": 4
}
