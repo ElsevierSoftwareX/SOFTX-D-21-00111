{
 "cells": [
  {
   "cell_type": "markdown",
   "metadata": {},
   "source": [
    "### <center><b>AMLBID</b></center>\n",
    "\n",
    "<center><img src=\"AMLBID/Framework.png\" width=\"80%\"/></center>\n"
   ]
  },
  {
   "cell_type": "markdown",
   "metadata": {},
   "source": [
    "*  #### <ins> `Recommender Mode`</ins>:"
   ]
  },
  {
   "cell_type": "code",
   "execution_count": 1,
   "metadata": {},
   "outputs": [
    {
     "name": "stdout",
     "output_type": "stream",
     "text": [
      "Loading data...\n",
      "Characterizing data ...\n",
      "Building recommendations...\n",
      "Exporting implementation...\n",
      "obtained score: \u001b[1m\u001b[32m97.792\u001b[0m\n"
     ]
    }
   ],
   "source": [
    "from AMLBID.Recommender import AMLBID_Recommender\n",
    "from AMLBID.Explainer import AMLBID_Explainer\n",
    "from AMLBID.loader import *\n",
    "\n",
    "#load dataset\n",
    "Data,X_train,Y_train,X_test,Y_test=load_data(\"TestData.csv\")  #imputation_type = ['median', 'mode','mean' ]\n",
    "\n",
    "#Generate the optimal configuration according to a desired predictive metric\n",
    "AMLBID=AMLBID_Recommender.recommend(Data, metric=\"Accuracy\", mode=\"Recommender\")\n",
    "AMLBID.fit(X_train, Y_train)\n",
    "print(\"obtained score:\" ,colored(round(AMLBID.score(X_test, Y_test)*100,3), 'green', attrs=['bold']))"
   ]
  },
  {
   "cell_type": "markdown",
   "metadata": {},
   "source": [
    "*  #### <ins> `Recommender_Explainer Mode`</ins>:"
   ]
  },
  {
   "cell_type": "code",
   "execution_count": 2,
   "metadata": {},
   "outputs": [
    {
     "name": "stdout",
     "output_type": "stream",
     "text": [
      "Loading data...\n",
      "Characterizing data ...\n",
      "Building recommendations...\n",
      "Building ExplainerDashboard...\n",
      "Dash app running on http://127.0.0.1:8889/\n"
     ]
    }
   ],
   "source": [
    "from AMLBID.Recommender import AMLBID_Recommender\n",
    "from AMLBID.Explainer import AMLBID_Explainer\n",
    "from AMLBID.loader import *\n",
    "\n",
    "#load dataset\n",
    "Data,X_train,Y_train,X_test,Y_test=load_data(\"TestData.csv\")\n",
    "\n",
    "#Generate the optimal configurations according to a desired predictive metric\n",
    "AMLBID,Config=AMLBID_Recommender.recommend(Data, metric=\"Accuracy\", mode=\"Recommender_Explainer\")\n",
    "AMLBID.fit(X_train, Y_train)\n",
    "\n",
    "#Generate the interactive explanatory dash\n",
    "Explainer = AMLBID_Explainer.explain(AMLBID,Config, X_test, Y_test)\n",
    "Explainer.run()"
   ]
  },
  {
   "cell_type": "code",
   "execution_count": null,
   "metadata": {},
   "outputs": [],
   "source": []
  }
 ],
 "metadata": {
  "kernelspec": {
   "display_name": "Python 3",
   "language": "python",
   "name": "python3"
  },
  "language_info": {
   "codemirror_mode": {
    "name": "ipython",
    "version": 3
   },
   "file_extension": ".py",
   "mimetype": "text/x-python",
   "name": "python",
   "nbconvert_exporter": "python",
   "pygments_lexer": "ipython3",
   "version": "3.8.5"
  }
 },
 "nbformat": 4,
 "nbformat_minor": 4
}
